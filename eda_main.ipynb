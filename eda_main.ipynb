{
 "cells": [
  {
   "cell_type": "code",
   "execution_count": 2,
   "metadata": {},
   "outputs": [],
   "source": [
    "from dataclasses import dataclass\n",
    "\n",
    "\n",
    "@dataclass\n",
    "class Config:\n",
    "    MAX_TOKENS = 512\n",
    "    BRAND = 'United Airlines'\n",
    "    COMPETITOR_BRANDS = ['Southwest Airlines', 'Spirit Airlines', 'American Airlines', 'United', 'Alaska Airlines', 'JetBlue']\n",
    "    IMPLICIT_IDENTIFIERS = ['Airline', 'Airlines', 'General Aviation', 'FAA', 'Boeing']"
   ]
  },
  {
   "attachments": {},
   "cell_type": "markdown",
   "metadata": {},
   "source": [
    "# Data Cleaning"
   ]
  },
  {
   "cell_type": "code",
   "execution_count": null,
   "metadata": {},
   "outputs": [],
   "source": [
    "from utils.data_cleaning import DataCleaning\n",
    "\n",
    "\n",
    "def data_cleaning(path):\n",
    "    data_df = DataCleaning.read_data(path)\n",
    "    data_df = DataCleaning.base_filtering(df=data_df)\n",
    "    \n",
    "    data_df = DataCleaning.add_ner_feature(df=data_df, feature='title', max_tokens=Config.MAX_TOKENS)\n",
    "    data_df = DataCleaning.add_ner_feature(df=data_df, feature='body', max_tokens=Config.MAX_TOKENS)\n",
    "    \n",
    "    data_df = DataCleaning.add_sentiment_feature(df=data_df, feature='title', max_tokens=Config.MAX_TOKENS)\n",
    "    data_df = DataCleaning.add_sentiment_feature(df=data_df, feature='body', max_tokens=Config.MAX_TOKENS)\n",
    "    \n",
    "    data_df = DataCleaning.add_brands(df=data_df, feature='title', brands_to_filter=([Config.BRAND] + Config.COMPETITOR_BRANDS + Config.IMPLICIT_IDENTIFIERS))\n",
    "    return data_df\n",
    "\n",
    "\n",
    "data_df = data_cleaning(path='data-science/social/challenge-social-00000.snappy.parquet')\n",
    "data_df"
   ]
  },
  {
   "attachments": {},
   "cell_type": "markdown",
   "metadata": {},
   "source": [
    "# Add Sentiment and Emotion Columns"
   ]
  },
  {
   "cell_type": "code",
   "execution_count": null,
   "metadata": {},
   "outputs": [],
   "source": [
    "from utils.sentiment_analysis import SentimentAnalysis\n",
    "\n",
    "\n",
    "blog_title_sentiment_ts = SentimentAnalysis.sentiment_graph(brands_df=data_df, feature='title_sentiment', resample_by='H', strftime='%Y-%m-%d')\n",
    "SentimentAnalysis.plot(blog_title_sentiment_ts, title='Title Sentiment Analysis Over Time', feature='title')"
   ]
  },
  {
   "cell_type": "code",
   "execution_count": null,
   "metadata": {},
   "outputs": [],
   "source": [
    "blog_title_sentiment_ts = SentimentAnalysis.sentiment_graph(brands_df=data_df, feature='title_sentiment', resample_by='D', strftime='%Y-%m-%d')\n",
    "SentimentAnalysis.plot(blog_title_sentiment_ts, title='Title Sentiment Analysis Over Time', feature='title')"
   ]
  },
  {
   "cell_type": "code",
   "execution_count": null,
   "metadata": {},
   "outputs": [],
   "source": [
    "blog_title_sentiment_ts = SentimentAnalysis.sentiment_graph(brands_df=data_df, feature='body_sentiment', resample_by='D', strftime='%Y-%m-%d')\n",
    "SentimentAnalysis.plot(blog_title_sentiment_ts, title='Body Sentiment Analysis Over Time', feature='body')"
   ]
  },
  {
   "attachments": {},
   "cell_type": "markdown",
   "metadata": {},
   "source": [
    "# Most Common Topics"
   ]
  },
  {
   "cell_type": "code",
   "execution_count": null,
   "metadata": {},
   "outputs": [],
   "source": [
    "from utils.topics import Topics\n",
    "\n",
    "\n",
    "negative_body_sentiments_df = Topics.filter_sentiment(df=data_df, feature='body', sentiment='negative')\n",
    "negative_body_topics = Topics.all_topics(df=negative_body_sentiments_df, feature='body')\n",
    "top_negative_body_topics = Topics.top_topics(topics=negative_body_topics, filter_by_sentiment='negative')\n",
    "\n",
    "Topics.plot(df=top_negative_body_topics, title='Most Common Topics in Body Negative Sentiment', top_k=20)\n"
   ]
  },
  {
   "attachments": {},
   "cell_type": "markdown",
   "metadata": {},
   "source": [
    "# Emotion Analysis"
   ]
  },
  {
   "cell_type": "code",
   "execution_count": null,
   "metadata": {},
   "outputs": [],
   "source": [
    "from utils.emotion_analysis import EmotionsAnalysis\n",
    "\n",
    "\n",
    "negative_blogs = EmotionsAnalysis.get_sentiment(df=data_df, sentiment='negative', feature='body')\n",
    "negative_blogs = EmotionsAnalysis.add_lg_emotions(df=negative_blogs, feature='title', max_tokens=Config.MAX_TOKENS)\n",
    "negative_blogs = EmotionsAnalysis.resample(df=negative_blogs, by='D', strftime='%Y-%m-%d')\n",
    "negative_blogs = EmotionsAnalysis.filter_negative_emotions(df=negative_blogs)\n",
    "\n",
    "EmotionsAnalysis.plot(df=negative_blogs, title='Title Emotions Over Time')"
   ]
  },
  {
   "cell_type": "code",
   "execution_count": null,
   "metadata": {},
   "outputs": [],
   "source": [
    "from utils.brand_sentiment import BrandSentiment\n",
    "\n",
    "\n",
    "# 'title_sentiment', 'body_sentiment'\n",
    "brand_sentiment = BrandSentiment.brand_filtering(data_df, brands=Config.COMPETITOR_BRANDS + [Config.BRAND], feature='body_sentiment')\n",
    "brand_sentiment = BrandSentiment.resample(brand_sentiment, by='D')\n",
    "BrandSentiment.plot(brand_sentiment, title='All Brands Body Sentiment Over Time')"
   ]
  },
  {
   "cell_type": "code",
   "execution_count": null,
   "metadata": {},
   "outputs": [],
   "source": [
    "# 'title_sentiment', 'body_sentiment'\n",
    "brand_sentiment = BrandSentiment.brand_filtering(data_df, brands=['United'], feature='body_sentiment')\n",
    "brand_sentiment = BrandSentiment.resample(brand_sentiment, by='D')\n",
    "BrandSentiment.plot(brand_sentiment, title='Brand Body Sentiment Over Time')"
   ]
  },
  {
   "cell_type": "code",
   "execution_count": null,
   "metadata": {},
   "outputs": [],
   "source": [
    "# 'title_sentiment', 'body_sentiment'\n",
    "brand_sentiment = BrandSentiment.brand_filtering(data_df, brands=Config.COMPETITOR_BRANDS, feature='body_sentiment')\n",
    "brand_sentiment = BrandSentiment.resample(brand_sentiment, by='D')\n",
    "BrandSentiment.plot(brand_sentiment, title='Competitor Brands Body Sentiment Over Time')"
   ]
  },
  {
   "cell_type": "code",
   "execution_count": null,
   "metadata": {},
   "outputs": [],
   "source": [
    "brand_sentiment = BrandSentiment.brand_filtering(data_df, brands=Config.IMPLICIT_IDENTIFIERS, feature='body_sentiment')\n",
    "brand_sentiment = BrandSentiment.resample(brand_sentiment, by='D')\n",
    "BrandSentiment.plot(brand_sentiment, title='Competitor Brands Body Sentiment Over Time')"
   ]
  }
 ],
 "metadata": {
  "kernelspec": {
   "display_name": "kona-takehome",
   "language": "python",
   "name": "python3"
  },
  "language_info": {
   "codemirror_mode": {
    "name": "ipython",
    "version": 3
   },
   "file_extension": ".py",
   "mimetype": "text/x-python",
   "name": "python",
   "nbconvert_exporter": "python",
   "pygments_lexer": "ipython3",
   "version": "3.8.2"
  },
  "orig_nbformat": 4
 },
 "nbformat": 4,
 "nbformat_minor": 2
}
